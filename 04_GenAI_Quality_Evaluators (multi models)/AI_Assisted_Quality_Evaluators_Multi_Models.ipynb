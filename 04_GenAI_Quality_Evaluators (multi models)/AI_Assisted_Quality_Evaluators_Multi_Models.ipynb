{
 "cells": [
  {
   "cell_type": "markdown",
   "metadata": {},
   "source": [
    "### 🎯 Goal of the Exercise  \n",
    "\n",
    "In this exercise, you'll explore how to effectively evaluate the quality of AI-generated content using **multiple AI models simultaneously**. You can work with a **Composite evaluator** to measure performance across different built-in AI-assisted evaluation methods.\n",
    "\n",
    "Through this hands-on activity, you'll learn how to:\n",
    "\n",
    "- Set up and configure multiple Azure OpenAI model endpoints.\n",
    "- Load, preprocess, and prepare datasets for evaluation tasks.\n",
    "- Run automated evaluations and systematically compare model outputs.\n",
    "- Analyze results to identify which AI models perform best on specific tasks.\n",
    "\n",
    "By the end of this exercise, you'll gain practical experience in multi-model evaluations, enabling you to make informed decisions when selecting or optimizing AI models for your specific use cases."
   ]
  },
  {
   "cell_type": "code",
   "execution_count": null,
   "metadata": {},
   "outputs": [],
   "source": [
    "from IPython.display import clear_output"
   ]
  },
  {
   "cell_type": "code",
   "execution_count": null,
   "metadata": {},
   "outputs": [],
   "source": [
    "#%pip install azure-ai-evaluation\n",
    "clear_output()"
   ]
  },
  {
   "cell_type": "markdown",
   "id": "1ff60b82",
   "metadata": {},
   "source": [
    "### 🔧 Task: Compare gpt-4o and gpt-4o-mini against same dataset on AI-assisted quality evaluation methods"
   ]
  },
  {
   "cell_type": "code",
   "execution_count": null,
   "metadata": {},
   "outputs": [],
   "source": [
    "# You can leverage the model_endpoints module to interact with the model endpoints"
   ]
  }
 ],
 "metadata": {
  "kernelspec": {
   "display_name": "Python 3",
   "language": "python",
   "name": "python3"
  },
  "language_info": {
   "codemirror_mode": {
    "name": "ipython",
    "version": 3
   },
   "file_extension": ".py",
   "mimetype": "text/x-python",
   "name": "python",
   "nbconvert_exporter": "python",
   "pygments_lexer": "ipython3",
   "version": "3.12.9"
  }
 },
 "nbformat": 4,
 "nbformat_minor": 2
}
