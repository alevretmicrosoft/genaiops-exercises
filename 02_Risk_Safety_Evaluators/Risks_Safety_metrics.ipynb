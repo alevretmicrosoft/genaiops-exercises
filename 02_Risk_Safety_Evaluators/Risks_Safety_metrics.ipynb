{
 "cells": [
  {
   "cell_type": "markdown",
   "metadata": {},
   "source": [
    "# 🎯 Goal of the Exercise  \n",
    "\n",
    "In this exercise, you'll explore how to leverage AI evaluators to effectively assess **safety risks** within text content, specifically targeting risks associated with **violence** and **self-harm**. Your tasks include implementing and configuring evaluators that accurately detect and measure potentially harmful content.\n",
    "\n",
    "Through this activity, you'll learn:\n",
    "\n",
    "- How to use specialized evaluators for detecting sensitive or risky language.\n",
    "- Best practices for integrating safety checks into AI workflows.\n",
    "- Techniques for interpreting and acting upon evaluator results to maintain ethical and responsible AI systems.\n",
    "\n",
    "By the end of the exercise, you'll have a clear understanding of how to implement robust safety checks that ensure your AI-generated content remains safe and responsible."
   ]
  },
  {
   "cell_type": "code",
   "execution_count": 7,
   "metadata": {},
   "outputs": [],
   "source": [
    "from IPython.display import clear_output"
   ]
  },
  {
   "cell_type": "code",
   "execution_count": 8,
   "metadata": {
    "tags": []
   },
   "outputs": [],
   "source": [
    "#%pip install openai azure-ai-evaluation[remote] azure-identity\n",
    "clear_output()"
   ]
  },
  {
   "cell_type": "markdown",
   "metadata": {},
   "source": [
    "# Assessing safety with ViolenceEvaluator"
   ]
  },
  {
   "cell_type": "code",
   "execution_count": null,
   "metadata": {},
   "outputs": [],
   "source": [
    "# TODO: Instantiate and configure the ViolenceEvaluator and use it to evaluate content"
   ]
  },
  {
   "cell_type": "markdown",
   "metadata": {},
   "source": [
    "# Assessing safety with SelfHarmEvaluator"
   ]
  },
  {
   "cell_type": "code",
   "execution_count": null,
   "metadata": {},
   "outputs": [],
   "source": [
    "# TODO: Instantiate and configure the SelfHarmEvaluator and use it to evaluate content"
   ]
  }
 ],
 "metadata": {
  "kernelspec": {
   "display_name": "Python 3",
   "language": "python",
   "name": "python3"
  },
  "language_info": {
   "codemirror_mode": {
    "name": "ipython",
    "version": 3
   },
   "file_extension": ".py",
   "mimetype": "text/x-python",
   "name": "python",
   "nbconvert_exporter": "python",
   "pygments_lexer": "ipython3",
   "version": "3.12.9"
  }
 },
 "nbformat": 4,
 "nbformat_minor": 4
}
